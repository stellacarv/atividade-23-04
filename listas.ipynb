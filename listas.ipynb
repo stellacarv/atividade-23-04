{
 "cells": [
  {
   "cell_type": "code",
   "execution_count": 2,
   "metadata": {},
   "outputs": [
    {
     "data": {
      "text/plain": [
       "10"
      ]
     },
     "execution_count": 2,
     "metadata": {},
     "output_type": "execute_result"
    }
   ],
   "source": [
    "dias = [3, 1, 10]\n",
    "dias[0] ## 3\n",
    "dias[1] ## 1\n",
    "dias[2] ## 10"
   ]
  },
  {
   "cell_type": "code",
   "execution_count": 3,
   "metadata": {},
   "outputs": [
    {
     "data": {
      "text/plain": [
       "[7, 8, 9]"
      ]
     },
     "execution_count": 3,
     "metadata": {},
     "output_type": "execute_result"
    }
   ],
   "source": [
    "Z = [3, 8, 9]\n",
    "Z[0] = 7\n",
    "Z"
   ]
  },
  {
   "cell_type": "code",
   "execution_count": 4,
   "metadata": {},
   "outputs": [
    {
     "name": "stdout",
     "output_type": "stream",
     "text": [
      "[6, 7, 5, 0, 9]\n",
      "[6, 7, 5, 0, 9]\n",
      "True\n",
      "True\n"
     ]
    }
   ],
   "source": [
    "V = [6, 7, 5, 8, 9]\n",
    "L = V\n",
    "\n",
    "V[3] = 0;\n",
    "print(L)\n",
    "print(V)\n",
    "print(V is L)\n",
    "print(L == V)"
   ]
  },
  {
   "cell_type": "code",
   "execution_count": 6,
   "metadata": {},
   "outputs": [
    {
     "name": "stdout",
     "output_type": "stream",
     "text": [
      "True\n",
      "False\n",
      "[81, 82, 83]\n",
      "[5, 82, 83]\n"
     ]
    }
   ],
   "source": [
    "a = [81, 82, 83]\n",
    "b = a[:]\n",
    "print(a == b)\n",
    "print(a is b)\n",
    "b[0] = 5\n",
    "print(a)\n",
    "print(b)"
   ]
  },
  {
   "cell_type": "code",
   "execution_count": 7,
   "metadata": {},
   "outputs": [
    {
     "name": "stdout",
     "output_type": "stream",
     "text": [
      "['b', 'c']\n",
      "['a', 'b', 'c', 'd']\n",
      "['d', 'e', 'f']\n",
      "['a', 'b', 'c', 'd', 'e', 'f']\n"
     ]
    }
   ],
   "source": [
    "umaLista = ['a', 'b', 'c', 'd', 'e', 'f']\n",
    "print(umaLista[1:3])\n",
    "print(umaLista[:4])\n",
    "print(umaLista[3:])\n",
    "print(umaLista[:])"
   ]
  },
  {
   "cell_type": "code",
   "execution_count": 11,
   "metadata": {},
   "outputs": [
    {
     "ename": "IndexError",
     "evalue": "list index out of range",
     "output_type": "error",
     "traceback": [
      "\u001b[1;31m---------------------------------------------------------------------------\u001b[0m",
      "\u001b[1;31mIndexError\u001b[0m                                Traceback (most recent call last)",
      "Cell \u001b[1;32mIn[11], line 4\u001b[0m\n\u001b[0;32m      2\u001b[0m b \u001b[38;5;241m=\u001b[39m a[:]\n\u001b[0;32m      3\u001b[0m b[\u001b[38;5;241m0\u001b[39m] \u001b[38;5;241m=\u001b[39m \u001b[38;5;241m5\u001b[39m\n\u001b[1;32m----> 4\u001b[0m \u001b[38;5;28mprint\u001b[39m(\u001b[43ma\u001b[49m\u001b[43m[\u001b[49m\u001b[38;5;241;43m3\u001b[39;49m\u001b[43m]\u001b[49m) \u001b[38;5;66;03m# Forçar o ERRO\u001b[39;00m\n",
      "\u001b[1;31mIndexError\u001b[0m: list index out of range"
     ]
    }
   ],
   "source": [
    "a = [1, 2, 3]\n",
    "b = a[:]\n",
    "b[0] = 5\n",
    "print(a[3]) # Forçar o ERRO"
   ]
  },
  {
   "cell_type": "code",
   "execution_count": 12,
   "metadata": {},
   "outputs": [
    {
     "name": "stdout",
     "output_type": "stream",
     "text": [
      "[72, 92.3, 'oi', True, 4, 76, 'pitomba', 76]\n",
      "[72, 92.3, 'oi', 'Cibele', True, 4, 76, 'pitomba', 76]\n",
      "['99', 72, 92.3, 'oi', 'Cibele', True, 4, 76, 'pitomba', 76]\n",
      "'oi' está no índice 3\n",
      "['99', 72, 92.3, 'oi', 'Cibele', 4, 76, 'pitomba', 76]\n"
     ]
    }
   ],
   "source": [
    "minhaLista = [72, 92.3, \"oi\", True, 4, 76]\n",
    "\n",
    "# a\n",
    "minhaLista = minhaLista[:] + [\"pitomba\" , 76]\n",
    "print(minhaLista)\n",
    "\n",
    "# b\n",
    "minhaLista = minhaLista[:3] + [\"Cibele\"] + minhaLista[3:]\n",
    "print(minhaLista)\n",
    "\n",
    "# c\n",
    "minhaLista = [\"99\"] + minhaLista[:]\n",
    "print(minhaLista)\n",
    "\n",
    "# d\n",
    "if minhaLista[0] == \"oi\" :\n",
    "    print(\"'oi' está no índice 0\")\n",
    "elif minhaLista[1] == \"oi\":\n",
    "    print(\"'oi' está no índice 1\")\n",
    "elif minhaLista[2] == \"oi\":\n",
    "    print(\"'oi' está no índice 2\")\n",
    "elif minhaLista[3] == \"oi\":\n",
    "    print(\"'oi' está no índice 3\")\n",
    "elif minhaLista[4] == \"oi\":\n",
    "    print(\"'oi' está no índice 4\")\n",
    "elif minhaLista[5] == \"oi\":\n",
    "    print(\"'oi' está no índice 2\")\n",
    "elif minhaLista[6] == \"oi\":\n",
    "    print(\"'oi' está no índice 2\")\n",
    "elif minhaLista[7] == \"oi\":\n",
    "    print(\"'oi' está no índice 2\")\n",
    "elif minhaLista[8] == \"oi\":\n",
    "    print(\"'oi' está no índice 2\")\n",
    "elif minhaLista[9] == \"oi\":\n",
    "    print(\"'oi' está no índice 2\")\n",
    "\n",
    "# e\n",
    "minhaLista = minhaLista[:5] + minhaLista[6:]\n",
    "print(minhaLista)"
   ]
  }
 ],
 "metadata": {
  "kernelspec": {
   "display_name": "Python 3",
   "language": "python",
   "name": "python3"
  },
  "language_info": {
   "codemirror_mode": {
    "name": "ipython",
    "version": 3
   },
   "file_extension": ".py",
   "mimetype": "text/x-python",
   "name": "python",
   "nbconvert_exporter": "python",
   "pygments_lexer": "ipython3",
   "version": "3.11.9"
  }
 },
 "nbformat": 4,
 "nbformat_minor": 2
}
